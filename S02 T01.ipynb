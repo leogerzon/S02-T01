{
 "cells": [
  {
   "cell_type": "code",
   "execution_count": 1,
   "id": "8f49ce5f",
   "metadata": {},
   "outputs": [
    {
     "name": "stdout",
     "output_type": "stream",
     "text": [
      "35\n"
     ]
    }
   ],
   "source": [
    "y = 5\n",
    "x = 7\n",
    "print (y*x)"
   ]
  },
  {
   "cell_type": "code",
   "execution_count": 2,
   "id": "b60e8177",
   "metadata": {},
   "outputs": [
    {
     "name": "stdout",
     "output_type": "stream",
     "text": [
      "10\n"
     ]
    }
   ],
   "source": [
    "x = 7\n",
    "y = 3\n",
    "print (x+y)"
   ]
  },
  {
   "cell_type": "code",
   "execution_count": 3,
   "id": "52e36483",
   "metadata": {},
   "outputs": [
    {
     "name": "stdout",
     "output_type": "stream",
     "text": [
      "2.0\n"
     ]
    }
   ],
   "source": [
    "y = 20\n",
    "x = 10\n",
    "print(y/x)"
   ]
  },
  {
   "cell_type": "code",
   "execution_count": 4,
   "id": "89ed0877",
   "metadata": {},
   "outputs": [
    {
     "name": "stdout",
     "output_type": "stream",
     "text": [
      "1\n"
     ]
    }
   ],
   "source": [
    "y = 100\n",
    "x = 99\n",
    "print (y-x)"
   ]
  },
  {
   "cell_type": "code",
   "execution_count": 6,
   "id": "648b7b73",
   "metadata": {},
   "outputs": [
    {
     "name": "stdout",
     "output_type": "stream",
     "text": [
      "['Barcelona', 'Madrid', 'Oviedo', 'Granada']\n"
     ]
    }
   ],
   "source": [
    "Ciudades = [\"Barcelona\", \"Madrid\", \"Oviedo\", \"Granada\"]\n",
    "print(Ciudades)"
   ]
  },
  {
   "cell_type": "code",
   "execution_count": 15,
   "id": "4045f644",
   "metadata": {},
   "outputs": [
    {
     "name": "stdout",
     "output_type": "stream",
     "text": [
      "['Alemán', 'Italiano', 'Catalán', 'Chino mandarín']\n"
     ]
    }
   ],
   "source": [
    "Idiomas = [\"Alemán\", \"Italiano\", \"Catalán\", \"Chino mandarín\"]\n",
    "print(Idiomas)"
   ]
  },
  {
   "cell_type": "markdown",
   "id": "ef3f8a17",
   "metadata": {},
   "source": [
    "**cada uno hace lo que puede**"
   ]
  },
  {
   "cell_type": "markdown",
   "id": "28d099fd",
   "metadata": {},
   "source": [
    "*el pájaro vio el cielo y se voló*"
   ]
  },
  {
   "cell_type": "markdown",
   "id": "44285198",
   "metadata": {},
   "source": [
    "# Idiomas"
   ]
  },
  {
   "cell_type": "markdown",
   "id": "772c83e2",
   "metadata": {},
   "source": [
    "## Ciudades"
   ]
  },
  {
   "cell_type": "markdown",
   "id": "12ecab8f",
   "metadata": {},
   "source": [
    "#### Canciones"
   ]
  },
  {
   "cell_type": "markdown",
   "id": "88300a5a",
   "metadata": {},
   "source": [
    "![Logo](https://images.app.goo.gl/dv1FCxurDMXadcpZA.png)"
   ]
  },
  {
   "cell_type": "markdown",
   "id": "33b9b68d",
   "metadata": {},
   "source": [
    "![Logo](https://images.app.goo.gl/ixnmwsu6PRKeMYQ78.jpg)"
   ]
  },
  {
   "cell_type": "markdown",
   "id": "23fa5c4d",
   "metadata": {},
   "source": [
    "[image_logo]https://images.app.goo.gl/ixnmwsu6PRKeMYQ78.png"
   ]
  },
  {
   "cell_type": "markdown",
   "id": "d4b43e02",
   "metadata": {},
   "source": [
    "![Logo](https://images.app.goo.gl/ixnmwsu6PRKeMYQ78.jpg \"Sagrada Familia\")"
   ]
  },
  {
   "cell_type": "code",
   "execution_count": null,
   "id": "1b23de22",
   "metadata": {},
   "outputs": [],
   "source": []
  }
 ],
 "metadata": {
  "kernelspec": {
   "display_name": "Python 3",
   "language": "python",
   "name": "python3"
  },
  "language_info": {
   "codemirror_mode": {
    "name": "ipython",
    "version": 3
   },
   "file_extension": ".py",
   "mimetype": "text/x-python",
   "name": "python",
   "nbconvert_exporter": "python",
   "pygments_lexer": "ipython3",
   "version": "3.8.8"
  }
 },
 "nbformat": 4,
 "nbformat_minor": 5
}
